{
 "cells": [
  {
   "cell_type": "markdown",
   "metadata": {},
   "source": [
    "# Práctica 2: Funciones y clases\n",
    "# Edwin Axel Vizuet Gil"
   ]
  },
  {
   "cell_type": "markdown",
   "metadata": {},
   "source": [
    "## El objetivo de esta práctica es estudiar el uso y comportamiento de las funciones en Python, así como la creación de clases dentro del mismo lenguaje."
   ]
  },
  {
   "cell_type": "code",
   "execution_count": 5,
   "metadata": {},
   "outputs": [
    {
     "name": "stdout",
     "output_type": "stream",
     "text": [
      "0, 5, 10, 15, 20, 25, 30, 35, 40, 45, 50, 55, 60, 65, 70, 75, 80, 85, 90, 95, "
     ]
    }
   ],
   "source": [
    "import sys\n",
    "for i in range(0,100,5):\n",
    "    sys.stdout.write('{}, '.format(i))"
   ]
  },
  {
   "cell_type": "markdown",
   "metadata": {},
   "source": [
    "En el siguiente ejemplo, se muestra la concatenación entre una lista y un mensaje."
   ]
  },
  {
   "cell_type": "code",
   "execution_count": 7,
   "metadata": {},
   "outputs": [
    {
     "name": "stdout",
     "output_type": "stream",
     "text": [
      "comprar leche en la proxima visita al super\n",
      "comprar pasta en la proxima visita al super\n",
      "ignorado este elemento de la lista frijol\n",
      "comprar huevos en la proxima visita al super\n",
      "comprar jamón en la proxima visita al super\n",
      "comprar pan en la proxima visita al super\n",
      "comprar arroz en la proxima visita al super\n"
     ]
    }
   ],
   "source": [
    "listas_compras = ['leche','pasta','frijol','huevos','jamón','pan','arroz']\n",
    "for producto in listas_compras:\n",
    "    if producto == 'frijol':\n",
    "        print(\"ignorado este elemento de la lista \"+producto)\n",
    "        continue\n",
    "    print(\"comprar {} en la proxima visita al super\".format(producto))"
   ]
  },
  {
   "cell_type": "code",
   "execution_count": 1,
   "metadata": {},
   "outputs": [],
   "source": [
    "numero = '9,223,372,036,854,775,807'"
   ]
  },
  {
   "cell_type": "markdown",
   "metadata": {},
   "source": [
    "A continuación, se muestra un ejemplo de como crear y ejecutar una función en Python."
   ]
  },
  {
   "cell_type": "code",
   "execution_count": 3,
   "metadata": {},
   "outputs": [],
   "source": [
    "def fib(n):\n",
    "    a,b = 0,1\n",
    "    while b < n:\n",
    "        print(b)\n",
    "        a,b = b, a+b"
   ]
  },
  {
   "cell_type": "code",
   "execution_count": 4,
   "metadata": {},
   "outputs": [
    {
     "name": "stdout",
     "output_type": "stream",
     "text": [
      "1\n",
      "1\n",
      "2\n",
      "3\n",
      "5\n",
      "8\n",
      "13\n",
      "21\n",
      "34\n",
      "55\n",
      "89\n",
      "144\n"
     ]
    }
   ],
   "source": [
    "fib(200)"
   ]
  },
  {
   "cell_type": "markdown",
   "metadata": {},
   "source": [
    "De igual forma, se puede asignar a una variable una función completa para referirnos a la misma."
   ]
  },
  {
   "cell_type": "code",
   "execution_count": 5,
   "metadata": {},
   "outputs": [
    {
     "name": "stdout",
     "output_type": "stream",
     "text": [
      "1\n",
      "1\n",
      "2\n",
      "3\n",
      "5\n",
      "8\n"
     ]
    }
   ],
   "source": [
    "f = fib\n",
    "f(10)"
   ]
  },
  {
   "cell_type": "markdown",
   "metadata": {},
   "source": [
    "En el siguiente ejemplo, se muestra la creación de una función con estructuras de control."
   ]
  },
  {
   "cell_type": "code",
   "execution_count": 3,
   "metadata": {},
   "outputs": [],
   "source": [
    "def pedir_confirmacion(pregunta, reintentos = 3, queja = 'Por favor ingrese: Si o No'):\n",
    "    while True:\n",
    "        ok = input(pregunta)\n",
    "        if ok in ('s','S','Si','SI','sI','si'):\n",
    "            return True\n",
    "        if ok in ('n','N','No','NO','nO','no'):\n",
    "            return False\n",
    "        reintentos = reintentos - 1\n",
    "        if reintentos == 0:\n",
    "            raise IOError('Usuario no coopera')\n",
    "        print(queja)"
   ]
  },
  {
   "cell_type": "code",
   "execution_count": 4,
   "metadata": {},
   "outputs": [
    {
     "name": "stdout",
     "output_type": "stream",
     "text": [
      "Quieres sopa de pollo, Si o No? b\n",
      "Por favor ingrese: Si o No\n",
      "Quieres sopa de pollo, Si o No? b\n",
      "Por favor ingrese: Si o No\n",
      "Quieres sopa de pollo, Si o No? b\n"
     ]
    },
    {
     "ename": "OSError",
     "evalue": "Usuario no coopera",
     "output_type": "error",
     "traceback": [
      "\u001b[1;31m---------------------------------------------------------------------------\u001b[0m",
      "\u001b[1;31mOSError\u001b[0m                                   Traceback (most recent call last)",
      "\u001b[1;32m<ipython-input-4-4c92b34b9105>\u001b[0m in \u001b[0;36m<module>\u001b[1;34m()\u001b[0m\n\u001b[1;32m----> 1\u001b[1;33m \u001b[0mpedir_confirmacion\u001b[0m\u001b[1;33m(\u001b[0m\u001b[1;34m\"Quieres sopa de pollo, Si o No? \"\u001b[0m\u001b[1;33m)\u001b[0m\u001b[1;33m\u001b[0m\u001b[0m\n\u001b[0m",
      "\u001b[1;32m<ipython-input-3-bcb4e69795b8>\u001b[0m in \u001b[0;36mpedir_confirmacion\u001b[1;34m(pregunta, reintentos, queja)\u001b[0m\n\u001b[0;32m      8\u001b[0m         \u001b[0mreintentos\u001b[0m \u001b[1;33m=\u001b[0m \u001b[0mreintentos\u001b[0m \u001b[1;33m-\u001b[0m \u001b[1;36m1\u001b[0m\u001b[1;33m\u001b[0m\u001b[0m\n\u001b[0;32m      9\u001b[0m         \u001b[1;32mif\u001b[0m \u001b[0mreintentos\u001b[0m \u001b[1;33m==\u001b[0m \u001b[1;36m0\u001b[0m\u001b[1;33m:\u001b[0m\u001b[1;33m\u001b[0m\u001b[0m\n\u001b[1;32m---> 10\u001b[1;33m             \u001b[1;32mraise\u001b[0m \u001b[0mIOError\u001b[0m\u001b[1;33m(\u001b[0m\u001b[1;34m'Usuario no coopera'\u001b[0m\u001b[1;33m)\u001b[0m\u001b[1;33m\u001b[0m\u001b[0m\n\u001b[0m\u001b[0;32m     11\u001b[0m         \u001b[0mprint\u001b[0m\u001b[1;33m(\u001b[0m\u001b[0mqueja\u001b[0m\u001b[1;33m)\u001b[0m\u001b[1;33m\u001b[0m\u001b[0m\n",
      "\u001b[1;31mOSError\u001b[0m: Usuario no coopera"
     ]
    }
   ],
   "source": [
    "pedir_confirmacion(\"Quieres sopa de pollo, Si o No? \")"
   ]
  },
  {
   "cell_type": "markdown",
   "metadata": {},
   "source": [
    "En el siguiente ejercicio, se muestra como una variable (con un valor asignado en una linea anterior), no cambia su valor aunque se le asigne un nuevo elemento."
   ]
  },
  {
   "cell_type": "code",
   "execution_count": 8,
   "metadata": {},
   "outputs": [],
   "source": [
    "i = 5\n",
    "\n",
    "def f(arg = i):\n",
    "    print(arg)"
   ]
  },
  {
   "cell_type": "code",
   "execution_count": 9,
   "metadata": {},
   "outputs": [
    {
     "name": "stdout",
     "output_type": "stream",
     "text": [
      "5\n"
     ]
    }
   ],
   "source": [
    "f()"
   ]
  },
  {
   "cell_type": "code",
   "execution_count": 10,
   "metadata": {},
   "outputs": [
    {
     "name": "stdout",
     "output_type": "stream",
     "text": [
      "5\n"
     ]
    }
   ],
   "source": [
    "i = 6\n",
    "f()"
   ]
  },
  {
   "cell_type": "markdown",
   "metadata": {},
   "source": [
    "La función append() puede añadir elementos de forma ordenada."
   ]
  },
  {
   "cell_type": "code",
   "execution_count": 12,
   "metadata": {},
   "outputs": [],
   "source": [
    "def f1(a,L=[]):\n",
    "    L.append(a)\n",
    "    return L"
   ]
  },
  {
   "cell_type": "code",
   "execution_count": 13,
   "metadata": {},
   "outputs": [
    {
     "data": {
      "text/plain": [
       "[10]"
      ]
     },
     "execution_count": 13,
     "metadata": {},
     "output_type": "execute_result"
    }
   ],
   "source": [
    "f1(10,[])"
   ]
  },
  {
   "cell_type": "code",
   "execution_count": 14,
   "metadata": {},
   "outputs": [
    {
     "name": "stdout",
     "output_type": "stream",
     "text": [
      "[1]\n",
      "[1, 9]\n",
      "[1, 9, 1000]\n"
     ]
    }
   ],
   "source": [
    "print(f1(1))\n",
    "print(f1(9))\n",
    "print(f1(1000))"
   ]
  },
  {
   "cell_type": "markdown",
   "metadata": {},
   "source": [
    "## Stack (Pila): PEPS/FIFO\n",
    "## Queue (Cola): UEPS/LIFO"
   ]
  },
  {
   "cell_type": "markdown",
   "metadata": {},
   "source": [
    "## Clases\n",
    "A continuación, se crea un ejemplo de una clase, la cual contiene un inicializador y un método."
   ]
  },
  {
   "cell_type": "code",
   "execution_count": 30,
   "metadata": {},
   "outputs": [
    {
     "name": "stdout",
     "output_type": "stream",
     "text": [
      "La bicicleta esta frenando\n",
      "Roja\n",
      "Metal\n"
     ]
    }
   ],
   "source": [
    "class Bicicleta:\n",
    "    def __init__(self, color,material_marco):\n",
    "        self.color = color\n",
    "        self.material_marco        \n",
    "    \n",
    "    def frenar():\n",
    "        print(\"La bicicleta esta frenando\")\n",
    "        \n",
    "bici = Bicicleta\n",
    "bici.color = \"Roja\"\n",
    "bici.material_marco = \"Metal\"\n",
    "bici.frenar()\n",
    "print(bici.color)\n",
    "print(bici.material_marco)"
   ]
  }
 ],
 "metadata": {
  "kernelspec": {
   "display_name": "Python 3",
   "language": "python",
   "name": "python3"
  },
  "language_info": {
   "codemirror_mode": {
    "name": "ipython",
    "version": 3
   },
   "file_extension": ".py",
   "mimetype": "text/x-python",
   "name": "python",
   "nbconvert_exporter": "python",
   "pygments_lexer": "ipython3",
   "version": "3.7.0"
  }
 },
 "nbformat": 4,
 "nbformat_minor": 2
}
