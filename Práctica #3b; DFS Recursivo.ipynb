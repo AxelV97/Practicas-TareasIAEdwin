{
 "cells": [
  {
   "cell_type": "markdown",
   "metadata": {},
   "source": [
    "# Práctica 3b: DFS Recursivo\n",
    "## Edwin Axel Vizuet Gil\n",
    "### Objetivo"
   ]
  },
  {
   "cell_type": "markdown",
   "metadata": {},
   "source": [
    "La siguiente práctica consiste en un programa elaborado en Python, el cual recorrerá un gráfico creado en un diccionario, almacenando el recorrido, indicando los caminos que tomó mediante busqueda DFS.\n",
    "\n",
    "A diferencia de DFS simple, este código está hecho de tal manera que haga el resultado sin usar una Stack (pila) para realizar el recorrido; en este caso, el programa se llama así mismo para evaluar cada nodo."
   ]
  },
  {
   "cell_type": "markdown",
   "metadata": {},
   "source": [
    "### Desarrollo\n",
    "El siguiente código (gráfico1.py) contiene la creación de los gráficos a recorrer mediante un diccionario:"
   ]
  },
  {
   "cell_type": "code",
   "execution_count": null,
   "metadata": {},
   "outputs": [],
   "source": [
    "from IPython.core.display import Image\n",
    "Image(filename ='/Users/AxelVizGil/Documents/Escuela/11vo_Cuatri/IA/Autobus.png',width=400)"
   ]
  },
  {
   "cell_type": "code",
   "execution_count": null,
   "metadata": {},
   "outputs": [],
   "source": [
    "from IPython.core.display import Image\n",
    "Image(filename ='/Users/AxelVizGil/Documents/Escuela/11vo_Cuatri/IA/S_to_G.png',width=400)"
   ]
  },
  {
   "cell_type": "code",
   "execution_count": null,
   "metadata": {},
   "outputs": [],
   "source": [
    "#!/usr/bin/env python3\n",
    "# -*- coding: utf-8 -*-\n",
    "\"\"\"\n",
    "Created on Tue Nov 20 15:30:41 2018\n",
    "\n",
    "@author: jlblancas\n",
    "\"\"\"\n",
    "\n",
    "#Conexiones entre lugares\n",
    "\"\"\"\n",
    "conexion = {}\n",
    "conexion[\"Parada Autobus\"] = {\"Libreria\"}\n",
    "conexion[\"Libreria\"] = {\"Estacionamiento\", \"Centro Estudiantil\"}\n",
    "conexion[\"Estacionamiento\"] = {\"Edificio Administrativo\", \"Tienda\"}\n",
    "conexion[\"Edificio Administrativo\"] = {\"Cafeteria\"}\n",
    "conexion[\"Centro Estudiantil\"] = {\"Tienda\" , \"Teatro\"}\n",
    "conexion[\"Tienda\"] = {\"Cafeteria\"}\n",
    "conexion[\"Cafeteria\"] = {\"Laboratorios Computo\"}\n",
    "#conexion[\"Laboratorios Computo\"] = {\"Cafeteria\"}\n",
    "conexion[\"Teatro\"] = {\"Gimnasio\"}\n",
    "conexion[\"Gimnasio\"] = {\"Tienda\"}\n",
    "#localidades de los lugares\n",
    "\n",
    "\"\"\"\n",
    "\n",
    "conexion={}\n",
    "conexion[\"S\"]={\"A\",\"D\"}\n",
    "conexion[\"A\"]={\"D\",\"B\"}\n",
    "conexion[\"D\"]={\"E\"}\n",
    "conexion[\"B\"]={\"C\",\"E\"}\n",
    "conexion[\"E\"]={\"F\"}\n",
    "conexion[\"F\"]={\"G\"}\n",
    "conexion[\"C\"]={\"B\"}"
   ]
  },
  {
   "cell_type": "markdown",
   "metadata": {},
   "source": [
    "En dicho código, se crea un diccionario el cual contiene los nodos (lugares) que serán recorridos por el programa.\n",
    "\n",
    "A continuación, se usan las clases Nodos y Estados para poder crear los objetos (instancias) correspondientes para almacenar los lugares y poder realizar el recorrido."
   ]
  },
  {
   "cell_type": "code",
   "execution_count": null,
   "metadata": {},
   "outputs": [],
   "source": [
    "#!/usr/bin/env python3\n",
    "# -*- coding: utf-8 -*-\n",
    "\"\"\"\n",
    "Created on Mon Feb 11 20:11:05 2019\n",
    "\n",
    "@author: jlblancas\n",
    "\"\"\"\n",
    "\n",
    "class Nodo:\n",
    "    '''\n",
    "    Esta el nodo en la búsqueda de árbol/gráfico\n",
    "    '''\n",
    "    \n",
    "    def __init__(self, estado):\n",
    "        \"\"\"\n",
    "        Constructor\n",
    "        \"\"\"\n",
    "        self.estado = estado\n",
    "        self.hijos = []\n",
    "        self.padre = None\n",
    "        \n",
    "        \n",
    "    def agregaHijos(self, nodoHijo):\n",
    "        \"\"\"\n",
    "        Este método agrega un nodo debajo de otro nodo.\n",
    "        \"\"\"\n",
    "        self.hijos.append(nodoHijo)\n",
    "        nodoHijo.padre = self\n",
    "    \n",
    "    def imprimeArbol(self):\n",
    "        \"\"\"\n",
    "        Este método imprime un árbol.\n",
    "        \"\"\"\n",
    "        print(\" - \" , self.estado.lugar)\n",
    "        for hijo in self.hijos:\n",
    "            hijo.imprimeArbol()"
   ]
  },
  {
   "cell_type": "markdown",
   "metadata": {},
   "source": [
    "En la clase Nodos, se ocupan los atributos y métodos correspondientes para poder crear los nodos correspondientes, así mismo, conforme se realice el recorrido se crearán los hijos dependiento al gráfico cargado."
   ]
  },
  {
   "cell_type": "code",
   "execution_count": null,
   "metadata": {},
   "outputs": [],
   "source": [
    "#!/usr/bin/env python3\n",
    "# -*- coding: utf-8 -*-\n",
    "\"\"\"\n",
    "Created on Mon Feb 11 20:12:30 2019\n",
    "\n",
    "@author: jlblancas\n",
    "\"\"\"\n",
    "     #grafico2\n",
    "from grafico1 import conexion\n",
    "\n",
    "class Estado:\n",
    "    '''\n",
    "    Esta clase obtiene la información del estado para nuestra aplicación de búsqueda.\n",
    "    '''\n",
    "\n",
    "    def __init__(self, lugar = None):\n",
    "        if lugar == None:\n",
    "            #create initial state\n",
    "            self.lugar = self.obtenEstadoInicial()\n",
    "        else:\n",
    "            self.lugar = lugar\n",
    "\n",
    "    def obtenEstadoInicial(self):\n",
    "        \"\"\"\n",
    "        Este método regresa como estado inicial el definido como estado inicial del grafico que se este usando.\n",
    "        \"\"\" \n",
    "        estadoInicial = \"S\" #S\n",
    "       \n",
    "        return estadoInicial\n",
    "    \n",
    "    def funcionSucesora(self):\n",
    "        \n",
    "        ''' Método debe regresar la función sucesora, de la lista serán los valores de la llave de acceso del \n",
    "        diccionario'''\n",
    "        #print(\"NODO SUCESOR ::::> \",conexion[self.lugar])\n",
    "       \n",
    "        return conexion[self.lugar]\n",
    "    \n",
    "    def checaMeta(self):\n",
    "        \"\"\"\n",
    "        Este método checa si en la ruta esta el estado meta.\n",
    "        \"\"\"\n",
    "        \n",
    "        return self.lugar == \"G\" #G"
   ]
  },
  {
   "cell_type": "markdown",
   "metadata": {},
   "source": [
    "En este código (Estados), se contienen los métodos correspondientes los cuales identificaran los lugares en los que están posicionados los nodos según el gráfico. La función sucesora es de los métodos más importantes, debido a que regresa los hijos del nodo actual."
   ]
  },
  {
   "cell_type": "code",
   "execution_count": null,
   "metadata": {},
   "outputs": [],
   "source": [
    "#!/usr/bin/env python3\n",
    "# -*- coding: utf-8 -*-\n",
    "\"\"\"\n",
    "Created on Thu Feb 14 08:55:17 2019\n",
    "\n",
    "@author: jlblancas\n",
    "\"\"\"\n",
    "\n",
    "from Nodos import Nodo\n",
    "from Estados import Estado\n",
    "#import sys\n",
    "\n",
    "class DFSrecursivo():\n",
    "    ''' Esta clase ejecuta el DFS recursivo '''\n",
    "    \n",
    "    def __init__(self):\n",
    "        self.encontrado = False\n",
    "    \n",
    "    def busqueda(self):\n",
    "        ''' Este método ejecutará una búsqueda recursiva'''\n",
    "        estadoInicial = Estado()\n",
    "        print(estadoInicial)\n",
    "        \n",
    "        nodoRaiz = Nodo(estadoInicial)\n",
    "        \n",
    "        self.DFS(nodoRaiz)\n",
    "    \n",
    "    def DFS(self, nodo):\n",
    "        ''' Crear el árbol de búsqueda '''\n",
    "        if not self.encontrado:\n",
    "            print('-- procesar -- ',nodo.estado.lugar)\n",
    "            \n",
    "            #Checar si hemos alcanzado el estado meta\n",
    "            \n",
    "            if nodo.estado.checaMeta():\n",
    "                print('Meta Alcanzada')\n",
    "                self.encontrado = True\n",
    "            else:\n",
    "                # encuentra a los sucesores del estado actual\n",
    "                estadosHijos = nodo.estado.funcionSucesora()\n",
    "                \n",
    "                for estadoHijo in estadosHijos:\n",
    "                    nodoHijo = Nodo(Estado(estadoHijo))\n",
    "                    nodo.agregaHijos(nodoHijo)\n",
    "                    self.DFS(nodoHijo)\n",
    "                    \n",
    "dfs = DFSrecursivo()\n",
    "dfs.busqueda()"
   ]
  },
  {
   "cell_type": "markdown",
   "metadata": {},
   "source": [
    "#### Diferencias vs DFS simple\n",
    "+ Esté código se llama así mismo para ejecutarse, sin la necesidad de almacenarlo en un stack.\n",
    "+ El recorrido es más sencillo de realizar en este código, debido a que ya no se utiliza una estructura de almacenamiento."
   ]
  },
  {
   "cell_type": "markdown",
   "metadata": {},
   "source": [
    "### Conclusión\n"
   ]
  },
  {
   "cell_type": "markdown",
   "metadata": {},
   "source": [
    "DFS es un método de búsqueda sencillo de implementar, pero tiene algunas desventajas:\n",
    "\n",
    "+ Puede ciclarse si no se declaran bien los gráficos.\n",
    "+ Si el gráfico tiene nodos terminales, en caso de no ser la salida, no podrá regresar.\n",
    "+ Este código funciona para pocos gráficos, no para muchos casos.\n",
    "\n",
    "**Sin embargo, esta nueva implementación conviene más por el hecho de que ya no se hace la implementación de un Stack para realizar el recorido.**"
   ]
  }
 ],
 "metadata": {
  "kernelspec": {
   "display_name": "Python 3",
   "language": "python",
   "name": "python3"
  },
  "language_info": {
   "codemirror_mode": {
    "name": "ipython",
    "version": 3
   },
   "file_extension": ".py",
   "mimetype": "text/x-python",
   "name": "python",
   "nbconvert_exporter": "python",
   "pygments_lexer": "ipython3",
   "version": "3.7.0"
  }
 },
 "nbformat": 4,
 "nbformat_minor": 2
}
