{
 "cells": [
  {
   "cell_type": "markdown",
   "metadata": {},
   "source": [
    "# Práctica 1: Conceptos Básicos; Python 101\n",
    "# Edwin Axel Vizuet Gil"
   ]
  },
  {
   "cell_type": "code",
   "execution_count": 1,
   "metadata": {},
   "outputs": [
    {
     "data": {
      "text/plain": [
       "0.5"
      ]
     },
     "execution_count": 1,
     "metadata": {},
     "output_type": "execute_result"
    }
   ],
   "source": [
    "1.0/2"
   ]
  },
  {
   "cell_type": "code",
   "execution_count": 2,
   "metadata": {},
   "outputs": [
    {
     "data": {
      "text/plain": [
       "1.75"
      ]
     },
     "execution_count": 2,
     "metadata": {},
     "output_type": "execute_result"
    }
   ],
   "source": [
    "14*3/24"
   ]
  },
  {
   "cell_type": "markdown",
   "metadata": {},
   "source": [
    "# Titulo\n",
    "## Subtitulo\n",
    "### Subtitulo\n",
    "\n",
    "1. Item Principal\n",
    "    - item1\n",
    "    - item2\n",
    "        - item3\n",
    "\n",
    "\n",
    "1. Jose\n",
    "2. Mario\n",
    "3. Luis\n",
    "\n",
    "\n",
    "- [ ] Objetivo 1\n",
    "- [ ] Objetivo 2\n",
    "- [ ] Objetivo 3\n",
    "\n",
    "\n",
    "![ ]('C://Users/Unitec/grass.png')\n",
    "\n",
    "\n",
    "Bold ** ** or __ __ control + b **This is bold text**\n",
    "\n",
    "Italic * * or _ _ control + i *This is italicized*\n",
    "\n",
    "Strikethrough ~~this was mistake text~~\n",
    "\n",
    "\n",
    "\n"
   ]
  },
  {
   "cell_type": "code",
   "execution_count": 4,
   "metadata": {},
   "outputs": [],
   "source": [
    "import pandas as pd\n",
    "pd.DataFrame?"
   ]
  },
  {
   "cell_type": "code",
   "execution_count": 5,
   "metadata": {},
   "outputs": [],
   "source": [
    "import numpy as np\n",
    "np.random?"
   ]
  },
  {
   "cell_type": "code",
   "execution_count": 7,
   "metadata": {},
   "outputs": [
    {
     "name": "stdout",
     "output_type": "stream",
     "text": [
      " El volumen de la unidad C no tiene etiqueta.\n",
      " El número de serie del volumen es: EC88-7848\n",
      "\n",
      " Directorio de C:\\Users\\Unitec\n",
      "\n",
      "24/01/2019  07:30 p. m.    <DIR>          .\n",
      "24/01/2019  07:30 p. m.    <DIR>          ..\n",
      "24/01/2019  06:28 p. m.    <DIR>          .anaconda\n",
      "24/01/2019  07:32 p. m.    <DIR>          .conda\n",
      "24/01/2019  06:35 p. m.                43 .condarc\n",
      "24/01/2019  07:11 p. m.    <DIR>          .ipynb_checkpoints\n",
      "24/01/2019  07:06 p. m.    <DIR>          .ipython\n",
      "24/01/2019  07:28 p. m.    <DIR>          .matplotlib\n",
      "23/08/2018  11:06 a. m.    <DIR>          .nbi\n",
      "23/08/2018  10:33 a. m.    <DIR>          .oracle_jre_usage\n",
      "17/08/2018  09:13 a. m.    <DIR>          3D Objects\n",
      "24/01/2019  06:21 p. m.    <DIR>          Anaconda3\n",
      "08/08/2018  11:39 a. m.    <DIR>          Application Data\n",
      "24/08/2018  12:53 p. m.    <DIR>          Autodesk\n",
      "17/08/2018  09:13 a. m.    <DIR>          Contacts\n",
      "24/01/2019  06:04 p. m.    <DIR>          Desktop\n",
      "24/01/2019  06:20 p. m.    <DIR>          Documents\n",
      "24/01/2019  07:21 p. m.    <DIR>          Downloads\n",
      "17/08/2018  09:13 a. m.    <DIR>          Favorites\n",
      "07/08/2018  12:10 p. m.    <DIR>          Intel\n",
      "17/08/2018  09:13 a. m.    <DIR>          Links\n",
      "17/08/2018  09:13 a. m.    <DIR>          Music\n",
      "27/07/2018  11:21 a. m.    <DIR>          OneDrive\n",
      "17/08/2018  09:13 a. m.    <DIR>          Pictures\n",
      "24/01/2019  07:30 p. m.             2,181 python101.ipynb\n",
      "17/08/2018  09:13 a. m.    <DIR>          Saved Games\n",
      "17/08/2018  09:13 a. m.    <DIR>          Searches\n",
      "17/08/2018  09:13 a. m.    <DIR>          Videos\n",
      "               2 archivos          2,224 bytes\n",
      "              26 dirs  312,253,620,224 bytes libres\n"
     ]
    }
   ],
   "source": [
    "ls"
   ]
  },
  {
   "cell_type": "markdown",
   "metadata": {},
   "source": [
    "# Informacion oficial de python se puede encontrar en:\n",
    "(http://ipython.readthedocs.io/en/stable/)"
   ]
  },
  {
   "cell_type": "code",
   "execution_count": 11,
   "metadata": {},
   "outputs": [
    {
     "name": "stdout",
     "output_type": "stream",
     "text": [
      "Hola mundo\n"
     ]
    }
   ],
   "source": [
    "print('Hola mundo')"
   ]
  },
  {
   "cell_type": "code",
   "execution_count": 15,
   "metadata": {},
   "outputs": [
    {
     "name": "stdout",
     "output_type": "stream",
     "text": [
      "Primero 6.75\n",
      "Segundo 97\n"
     ]
    }
   ],
   "source": [
    "print(\"Primero\",3+2+1-5+4%2-1/4+6)\n",
    "print(\"Segundo\",100-25*3%4)"
   ]
  },
  {
   "cell_type": "code",
   "execution_count": 14,
   "metadata": {},
   "outputs": [
    {
     "name": "stdout",
     "output_type": "stream",
     "text": [
      "False\n"
     ]
    }
   ],
   "source": [
    "print(3+5 < 5-7)"
   ]
  }
 ],
 "metadata": {
  "kernelspec": {
   "display_name": "Python 3",
   "language": "python",
   "name": "python3"
  },
  "language_info": {
   "codemirror_mode": {
    "name": "ipython",
    "version": 3
   },
   "file_extension": ".py",
   "mimetype": "text/x-python",
   "name": "python",
   "nbconvert_exporter": "python",
   "pygments_lexer": "ipython3",
   "version": "3.7.0"
  }
 },
 "nbformat": 4,
 "nbformat_minor": 2
}
