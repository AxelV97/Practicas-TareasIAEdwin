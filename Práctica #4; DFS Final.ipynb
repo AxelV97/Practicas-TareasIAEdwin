{
 "cells": [
  {
   "cell_type": "markdown",
   "metadata": {},
   "source": [
    "# Práctica 4: DFS Final\n",
    "## Edwin Axel Vizuet Gil\n",
    "### Objetivo"
   ]
  },
  {
   "cell_type": "markdown",
   "metadata": {},
   "source": [
    "La siguiente práctica consiste en un programa elaborado en Python, el cual recorrerá un gráfico creado en un diccionario, almacenando el recorrido, indicando los caminos que tomó mediante busqueda DFS.\n",
    "\n",
    "A diferencia de DFS simple y recursivo, **este código está hecho de tal manera que haga el recorrido evitando los bucles(ciclos) para llegar a la meta**; en este caso, el programa evalua los ciclos para evitarlos y continuar con el recorrido."
   ]
  },
  {
   "cell_type": "markdown",
   "metadata": {},
   "source": [
    "### Desarrollo\n",
    "El siguiente código (gráfico2.py) contiene la creación de los gráficos a recorrer mediante un diccionario:"
   ]
  },
  {
   "cell_type": "code",
   "execution_count": 2,
   "metadata": {},
   "outputs": [
    {
     "data": {
      "image/png": "[encoded data removed]",
      "text/plain": [
       "<IPython.core.display.Image object>"
      ]
     },
     "execution_count": 2,
     "metadata": {
      "image/png": {
       "width": 400
      }
     },
     "output_type": "execute_result"
    }
   ],
   "source": [
    "from IPython.core.display import Image\n",
    "Image(filename ='/Users/AxelVizGil/Documents/Escuela/11vo_Cuatri/IA/S_to_G.png',width=400)"
   ]
  },
  {
   "cell_type": "code",
   "execution_count": 1,
   "metadata": {},
   "outputs": [],
   "source": [
    "#!/usr/bin/env python3\n",
    "# -*- coding: utf-8 -*-\n",
    "\"\"\"\n",
    "Created on Tue Nov 20 15:30:41 2018\n",
    "\n",
    "@author: jlblancas\n",
    "\"\"\"\n",
    "\n",
    "#Conexiones entre lugares\n",
    "conexion = {}\n",
    "conexion[\"S\"] = {\"A\", \"D\"}\n",
    "conexion[\"A\"] = {\"B\", \"D\"}\n",
    "conexion[\"B\"] = {\"E\", \"C\"}\n",
    "conexion[\"C\"] = {\"B\"} \n",
    "conexion[\"D\"] = {\"A\", \"E\"}\n",
    "conexion[\"E\"] = {\"D\", \"F\"}\n",
    "conexion[\"F\"] = {\"G\"}\n",
    "#localidades de los lugares"
   ]
  },
  {
   "cell_type": "markdown",
   "metadata": {},
   "source": [
    "En dicho código, se crea un diccionario el cual contiene los nodos (lugares) que serán recorridos por el programa.\n",
    "\n",
    "A continuación, se usan las clases Nodos y Estados para poder crear los objetos (instancias) correspondientes para almacenar los lugares y poder realizar el recorrido."
   ]
  },
  {
   "cell_type": "code",
   "execution_count": 2,
   "metadata": {},
   "outputs": [],
   "source": [
    "#!/usr/bin/env python3\n",
    "# -*- coding: utf-8 -*-\n",
    "\"\"\"\n",
    "Created on Wed Oct  3 16:03:28 2018\n",
    "\n",
    "@author: jlblancas\n",
    "\"\"\"\n",
    "\n",
    "class Nodo:\n",
    "    '''\n",
    "    Esta el nodo en la búsqueda de árbol/gráfico\n",
    "    '''\n",
    "    \n",
    "    def __init__(self, estado):\n",
    "        \"\"\"\n",
    "        Constructor\n",
    "        \"\"\"\n",
    "        self.estado = estado\n",
    "        self.profundidad = 0\n",
    "        self.hijos = []\n",
    "        self.limite = True\n",
    "        self.padre = None\n",
    "        \n",
    "        \n",
    "    def agregaHijos(self, nodoHijo):\n",
    "        \"\"\"\n",
    "        Este método agrega un nodo debajo de otro nodo.\n",
    "        \"\"\"\n",
    "        self.hijos.append(nodoHijo)\n",
    "        nodoHijo.padre = self\n",
    "        nodoHijo.profundidad = self.profundidad + 1\n",
    "        \n",
    "    \n",
    "    def imprimeArbol(self):\n",
    "        \"\"\"\n",
    "        Este método imprime un árbol.\n",
    "        \"\"\"\n",
    "        print(self.profundidad , \" - \" , self.estado.lugar)\n",
    "        for hijo in self.hijos:\n",
    "            hijo.imprimeArbol()\n",
    " "
   ]
  },
  {
   "cell_type": "markdown",
   "metadata": {},
   "source": [
    "En la clase Nodos, se ocupan los atributos y métodos correspondientes para poder crear los nodos correspondientes, así mismo, conforme se realice el recorrido se crearán los hijos dependiento al gráfico cargado."
   ]
  },
  {
   "cell_type": "code",
   "execution_count": 3,
   "metadata": {},
   "outputs": [
    {
     "ename": "ModuleNotFoundError",
     "evalue": "No module named 'grafico2'",
     "output_type": "error",
     "traceback": [
      "\u001b[1;31m---------------------------------------------------------------------------\u001b[0m",
      "\u001b[1;31mModuleNotFoundError\u001b[0m                       Traceback (most recent call last)",
      "\u001b[1;32m<ipython-input-3-adc996060ca8>\u001b[0m in \u001b[0;36m<module>\u001b[1;34m()\u001b[0m\n\u001b[0;32m      8\u001b[0m \u001b[1;33m\u001b[0m\u001b[0m\n\u001b[0;32m      9\u001b[0m \u001b[1;33m\u001b[0m\u001b[0m\n\u001b[1;32m---> 10\u001b[1;33m \u001b[1;32mfrom\u001b[0m \u001b[0mgrafico2\u001b[0m \u001b[1;32mimport\u001b[0m \u001b[0mconexion\u001b[0m\u001b[1;33m\u001b[0m\u001b[0m\n\u001b[0m\u001b[0;32m     11\u001b[0m \u001b[1;32mfrom\u001b[0m \u001b[0mcollections\u001b[0m \u001b[1;32mimport\u001b[0m \u001b[0mOrderedDict\u001b[0m\u001b[1;33m\u001b[0m\u001b[0m\n\u001b[0;32m     12\u001b[0m \u001b[0mlista_de_listas\u001b[0m \u001b[1;33m=\u001b[0m \u001b[1;33m[\u001b[0m\u001b[1;33m]\u001b[0m\u001b[1;33m\u001b[0m\u001b[0m\n",
      "\u001b[1;31mModuleNotFoundError\u001b[0m: No module named 'grafico2'"
     ]
    }
   ],
   "source": [
    "#!/usr/bin/env python3\n",
    "# -*- coding: utf-8 -*-\n",
    "\"\"\"\n",
    "Created on Wed Oct  3 16:13:22 2018\n",
    "\n",
    "@author: jlblancas\n",
    "\"\"\"\n",
    "\n",
    "\n",
    "from grafico2 import conexion\n",
    "from collections import OrderedDict\n",
    "lista_de_listas = []\n",
    "print(\"Valor inicial lista de listas : \",lista_de_listas)\n",
    "print(\"Variable defined outside of method automatically global? \"\n",
    "      + str(\"lista_de_listas\" in globals()))\n",
    "\n",
    "\n",
    "class Estado:\n",
    "    '''\n",
    "    Esta clase obtiene la información del estado para nuestra aplicación de búsqueda.\n",
    "    '''\n",
    "\n",
    "    def __init__(self, lugar = None):\n",
    "        if lugar == None:\n",
    "            #create initial state\n",
    "            self.lugar = self.obtenEstadoInicial()\n",
    "        else:\n",
    "            self.lugar = lugar\n",
    "\n",
    "    def obtenEstadoInicial(self):\n",
    "        \"\"\"\n",
    "        Este método retorna el directorio actual.\n",
    "        \"\"\"\n",
    "        #estadoInicial = \"Parada Autobus\"\n",
    "        estadoInicial = \"S\"\n",
    "        #estadoInicial = os.path.dirname(os.path.realpath(__file__))\n",
    "        return estadoInicial\n",
    "\n",
    "\n",
    "    def funcionSucesora(self):\n",
    "        \"\"\"\n",
    "        Esta es la función sucesora. Y genera todas las rutas\n",
    "         rutas posibles que pueden ser alcanzadas de la ruta actual\n",
    "        \"\"\"\n",
    "        global lista_de_listas\n",
    "        print(\"NODO SUCESOR ::::> \",conexion[self.lugar])\n",
    "        dictemp = {}\n",
    "        dictemp = conexion[self.lugar]\n",
    "        stack1 = []\n",
    "        print(\"LISTA DE LISTAS %%%%%%%%\",lista_de_listas)\n",
    "        if conexion[self.lugar] in lista_de_listas:\n",
    "            print(\"ESTADO REPETIDO ***********************\")\n",
    "            stack1 = list(dictemp)\n",
    "            stack1.pop()\n",
    "        else:\n",
    "            stack1 = list(dictemp)\n",
    "        stack1.sort()\n",
    "        lista_de_listas.append(conexion[self.lugar])\n",
    "        #print(\"Lista de Listas :::::>\",lista_de_listas)\n",
    "        \n",
    "        #print(len(stack1))\n",
    "        #print(\"STACK 1 : \",stack1) \n",
    "        #print(\"DICCIONARIO :::>\",stack1)\n",
    "        dictofWords2 = OrderedDict()\n",
    "        for i in range(0,len(stack1)):\n",
    "            dictofWords2[stack1[i]] = i+1\n",
    "        #print(dictofWords2.keys())\n",
    "        return dictofWords2.keys()\n",
    "\n",
    "    def checaMeta(self):\n",
    "        \"\"\"\n",
    "        Este método checa si en la ruta esta el estado meta.\n",
    "        \"\"\"\n",
    "        #check if it is a folder\n",
    "        #return self.lugar == \"Laboratorios Computo\"\n",
    "        return self.lugar == \"G\""
   ]
  },
  {
   "cell_type": "markdown",
   "metadata": {},
   "source": [
    "En este código (Estados), se contienen los métodos correspondientes los cuales identificaran los lugares en los que están posicionados los nodos según el gráfico. La función sucesora es de los métodos más importantes, debido a que regresa los hijos del nodo actual.\n",
    "De igual manera, se contienen los arreglos para hacer que no caiga en un ciclo infinito y pueda seguir buscando la solución."
   ]
  },
  {
   "cell_type": "code",
   "execution_count": 4,
   "metadata": {},
   "outputs": [
    {
     "ename": "ModuleNotFoundError",
     "evalue": "No module named 'Nodod'",
     "output_type": "error",
     "traceback": [
      "\u001b[1;31m---------------------------------------------------------------------------\u001b[0m",
      "\u001b[1;31mModuleNotFoundError\u001b[0m                       Traceback (most recent call last)",
      "\u001b[1;32m<ipython-input-4-5445123c107b>\u001b[0m in \u001b[0;36m<module>\u001b[1;34m()\u001b[0m\n\u001b[0;32m      7\u001b[0m \"\"\"\n\u001b[0;32m      8\u001b[0m \u001b[1;33m\u001b[0m\u001b[0m\n\u001b[1;32m----> 9\u001b[1;33m \u001b[1;32mfrom\u001b[0m \u001b[0mNodod\u001b[0m \u001b[1;32mimport\u001b[0m \u001b[0mNodo\u001b[0m\u001b[1;33m\u001b[0m\u001b[0m\n\u001b[0m\u001b[0;32m     10\u001b[0m \u001b[1;32mfrom\u001b[0m \u001b[0mEstadod\u001b[0m \u001b[1;32mimport\u001b[0m \u001b[0mEstado\u001b[0m\u001b[1;33m\u001b[0m\u001b[0m\n\u001b[0;32m     11\u001b[0m \u001b[1;33m\u001b[0m\u001b[0m\n",
      "\u001b[1;31mModuleNotFoundError\u001b[0m: No module named 'Nodod'"
     ]
    }
   ],
   "source": [
    "#!/usr/bin/env python3\n",
    "# -*- coding: utf-8 -*-\n",
    "\"\"\"\n",
    "Created on Sat Nov 24 09:50:25 2018\n",
    "\n",
    "@author: jlblancas\n",
    "\"\"\"\n",
    "\n",
    "from Nodod import Nodo\n",
    "from Estadod import Estado\n",
    "\n",
    "\n",
    "\n",
    "def DFS():\n",
    "    \"\"\"\n",
    "    This function performs DFS search using a stack\n",
    "    \"\"\"\n",
    "    #create stack\n",
    "    stack = []\n",
    "    visited = [] \n",
    "   \n",
    "    \n",
    "    #crear el nodo raiz y agregar al stack\n",
    "    estadoInicial = Estado()\n",
    "    raiz = Nodo(estadoInicial)\n",
    "    print(\"-- Nodo Raiz --\", raiz.estado.lugar)\n",
    "    print(\"Atributos Raiz \", raiz.estado.__dict__,raiz.__dict__)\n",
    "    stack.append(raiz)\n",
    "    for x in stack:\n",
    "        print('Valor del Stack ', x.estado.__dict__)\n",
    "    cont = 0\n",
    "   \n",
    "    # checar si hay algo en el stack a expandir\n",
    "    while len(stack) > 0:\n",
    "        \n",
    "        #obtener el nodo siguiente\n",
    "        nodoActual = stack.pop()\n",
    "        if nodoActual.estado.lugar not in visited:\n",
    "            visited.append(nodoActual.estado.lugar)\n",
    "        \n",
    "        print(\"-- pop --\", nodoActual.estado.lugar)\n",
    "        if len(visited) == 0:\n",
    "            print('Valor del Visited++++++++ CERO')\n",
    "        for x in visited:\n",
    "            print('Valor del Visited******** ', visited)\n",
    "        \n",
    "        #checar si estamos en el estado meta\n",
    "        if nodoActual.estado.checaMeta():\n",
    "            print(\"Meta Alcanzada\")\n",
    "            break\n",
    "            \n",
    "        #obtener los nodos hijos del nodo actual que estamos revisando\n",
    "        childStates = nodoActual.estado.funcionSucesora()\n",
    "        print('Child States ????????? ',childStates)\n",
    "        for childState in childStates:\n",
    "            childNode = Nodo(Estado(childState))\n",
    "            print('Nodo Hijo ',childNode.estado.lugar)\n",
    "            if childNode.estado.lugar not in visited:\n",
    "                print('Nodo Hijo vs VISITED ',nodoActual.estado.lugar)\n",
    "                nodoActual.agregaHijos(childNode)\n",
    "                #Añadir hijos si no ha sido visitado\n",
    "        \n",
    "        \n",
    "        \n",
    "        #agregar a los hijos en orden inverso al stack // for index in range(len(nodoActual.hijos) - 1, -1, -1):\n",
    "        for index in range(len(nodoActual.hijos)-1,-1,-1):\n",
    "            if nodoActual.hijos[index] not in visited:\n",
    "                stack.append(nodoActual.hijos[index])\n",
    "                \n",
    "        \n",
    "        if len(stack) == 0:\n",
    "            print('Valor del Stack¬¬¬¬¬¬¬¬¬¬¬ CERO')\n",
    "        for x in stack:\n",
    "            print('Valor del Stack∞∞∞∞∞∞∞∞∞∞∞∞ ', x.estado.__dict__)\n",
    "                \n",
    "        #print(\"NODOS VISITADOS ::>\",visited)\n",
    "        #mostrar el arbol explorado hasta el momento\n",
    "        cont = cont +1\n",
    "        print(\"CONTADOR\", cont)\n",
    "        \n",
    "    print(\"----------------------\")\n",
    "    raiz.imprimeArbol()\n",
    "    \n",
    "DFS()"
   ]
  },
  {
   "cell_type": "markdown",
   "metadata": {},
   "source": [
    "#### Diferencias vs DFS simple\n",
    "+ Esté código elimina los ciclos dentro de cada gráfico, esto para poder encontrar la solución dentro del árbol."
   ]
  },
  {
   "cell_type": "markdown",
   "metadata": {},
   "source": [
    "### Conclusión\n"
   ]
  },
  {
   "cell_type": "markdown",
   "metadata": {},
   "source": [
    "DFS es un método de búsqueda sencillo de implementar, pero tiene algunas desventajas:\n",
    "\n",
    "+ Puede ciclarse si no se declaran bien los gráficos.\n",
    "+ Si el gráfico tiene nodos terminales, en caso de no ser la salida, no podrá regresar.\n",
    "+ Este código funciona para pocos gráficos, no para muchos casos.\n",
    "\n",
    "\n",
    "**Sin embargo, esta nueva implementación conviene más, debido a que ahora muestra un recorrido más completo, eliminando los ciclos dentro de un árbol.**"
   ]
  }
 ],
 "metadata": {
  "kernelspec": {
   "display_name": "Python 3",
   "language": "python",
   "name": "python3"
  },
  "language_info": {
   "codemirror_mode": {
    "name": "ipython",
    "version": 3
   },
   "file_extension": ".py",
   "mimetype": "text/x-python",
   "name": "python",
   "nbconvert_exporter": "python",
   "pygments_lexer": "ipython3",
   "version": "3.7.0"
  }
 },
 "nbformat": 4,
 "nbformat_minor": 2
}
